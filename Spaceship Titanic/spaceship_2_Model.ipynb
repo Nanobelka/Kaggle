{
 "cells": [
  {
   "cell_type": "markdown",
   "id": "29f79964",
   "metadata": {
    "jp-MarkdownHeadingCollapsed": true,
    "tags": [],
    "toc": true
   },
   "source": [
    "<h1>Содержание<span class=\"tocSkip\"></span></h1>\n",
    "<div class=\"toc\"><ul class=\"toc-item\"><li><span><a href=\"#Начальная-подготовка\" data-toc-modified-id=\"Начальная-подготовка-0\"><span class=\"toc-item-num\">0&nbsp;&nbsp;</span>Начальная подготовка</a></span><ul class=\"toc-item\"><li><span><a href=\"#Импорты\" data-toc-modified-id=\"Импорты-0.1\"><span class=\"toc-item-num\">0.1&nbsp;&nbsp;</span>Импорты</a></span></li><li><span><a href=\"#Константы\" data-toc-modified-id=\"Константы-0.2\"><span class=\"toc-item-num\">0.2&nbsp;&nbsp;</span>Константы</a></span></li><li><span><a href=\"#Вспомогательные-функции\" data-toc-modified-id=\"Вспомогательные-функции-0.3\"><span class=\"toc-item-num\">0.3&nbsp;&nbsp;</span>Вспомогательные функции</a></span></li><li><span><a href=\"#Оформление\" data-toc-modified-id=\"Оформление-0.4\"><span class=\"toc-item-num\">0.4&nbsp;&nbsp;</span>Оформление</a></span></li></ul></li><li><span><a href=\"#Входные-данные\" data-toc-modified-id=\"Входные-данные-1\"><span class=\"toc-item-num\">1&nbsp;&nbsp;</span>Входные данные</a></span><ul class=\"toc-item\"><li><span><a href=\"#Чтение-данных\" data-toc-modified-id=\"Чтение-данных-1.1\"><span class=\"toc-item-num\">1.1&nbsp;&nbsp;</span>Чтение данных</a></span></li><li><span><a href=\"#Первичная-информация-о-данных\" data-toc-modified-id=\"Первичная-информация-о-данных-1.2\"><span class=\"toc-item-num\">1.2&nbsp;&nbsp;</span>Первичная информация о данных</a></span></li></ul></li><li><span><a href=\"#Данные-для-моделей\" data-toc-modified-id=\"Данные-для-моделей-2\"><span class=\"toc-item-num\">2&nbsp;&nbsp;</span>Данные для моделей</a></span><ul class=\"toc-item\"><li><span><a href=\"#Feature-Engineering\" data-toc-modified-id=\"Feature-Engineering-2.1\"><span class=\"toc-item-num\">2.1&nbsp;&nbsp;</span>Feature Engineering</a></span><ul class=\"toc-item\"><li><span><a href=\"#Drop-Features-—-удаление-ненужных-полей\" data-toc-modified-id=\"Drop-Features-—-удаление-ненужных-полей-2.1.1\"><span class=\"toc-item-num\">2.1.1&nbsp;&nbsp;</span>Drop Features — удаление ненужных полей</a></span></li></ul></li><li><span><a href=\"#Выделение-признаков-и-целевой-переменной\" data-toc-modified-id=\"Выделение-признаков-и-целевой-переменной-2.2\"><span class=\"toc-item-num\">2.2&nbsp;&nbsp;</span>Выделение признаков и целевой переменной</a></span></li><li><span><a href=\"#Разделение-на-обучающую-и-тестовую-выборки\" data-toc-modified-id=\"Разделение-на-обучающую-и-тестовую-выборки-2.3\"><span class=\"toc-item-num\">2.3&nbsp;&nbsp;</span>Разделение на обучающую и тестовую выборки</a></span></li></ul></li><li><span><a href=\"#Модель:-Optuna-Original-Single\" data-toc-modified-id=\"Модель:-Optuna-Original-Single-3\"><span class=\"toc-item-num\">3&nbsp;&nbsp;</span>Модель: Optuna Original Single</a></span><ul class=\"toc-item\"><li><span><a href=\"#Feature-Engineering\" data-toc-modified-id=\"Feature-Engineering-3.1\"><span class=\"toc-item-num\">3.1&nbsp;&nbsp;</span>Feature Engineering</a></span></li><li><span><a href=\"#Препроцессинг-признаков\" data-toc-modified-id=\"Препроцессинг-признаков-3.2\"><span class=\"toc-item-num\">3.2&nbsp;&nbsp;</span>Препроцессинг признаков</a></span></li><li><span><a href=\"#Препроцессинг-целевой-переменной\" data-toc-modified-id=\"Препроцессинг-целевой-переменной-3.3\"><span class=\"toc-item-num\">3.3&nbsp;&nbsp;</span>Препроцессинг целевой переменной</a></span></li><li><span><a href=\"#Final-Estimator\" data-toc-modified-id=\"Final-Estimator-3.4\"><span class=\"toc-item-num\">3.4&nbsp;&nbsp;</span>Final Estimator</a></span></li><li><span><a href=\"#Сборка-пайплайна\" data-toc-modified-id=\"Сборка-пайплайна-3.5\"><span class=\"toc-item-num\">3.5&nbsp;&nbsp;</span>Сборка пайплайна</a></span></li><li><span><a href=\"#Objective-function-для-Optuna\" data-toc-modified-id=\"Objective-function-для-Optuna-3.6\"><span class=\"toc-item-num\">3.6&nbsp;&nbsp;</span>Objective function для Optuna</a></span></li><li><span><a href=\"#Подбор-гиперпараметров\" data-toc-modified-id=\"Подбор-гиперпараметров-3.7\"><span class=\"toc-item-num\">3.7&nbsp;&nbsp;</span>Подбор гиперпараметров</a></span></li><li><span><a href=\"#Сводная-таблица-по-моделям\" data-toc-modified-id=\"Сводная-таблица-по-моделям-3.8\"><span class=\"toc-item-num\">3.8&nbsp;&nbsp;</span>Сводная таблица по моделям</a></span></li><li><span><a href=\"#Характеристики-модели\" data-toc-modified-id=\"Характеристики-модели-3.9\"><span class=\"toc-item-num\">3.9&nbsp;&nbsp;</span>Характеристики модели</a></span></li><li><span><a href=\"#Важность-признаков\" data-toc-modified-id=\"Важность-признаков-3.10\"><span class=\"toc-item-num\">3.10&nbsp;&nbsp;</span>Важность признаков</a></span></li><li><span><a href=\"#Визуализация-результатов-подбора-гиперпараметров\" data-toc-modified-id=\"Визуализация-результатов-подбора-гиперпараметров-3.11\"><span class=\"toc-item-num\">3.11&nbsp;&nbsp;</span>Визуализация результатов подбора гиперпараметров</a></span></li></ul></li><li><span><a href=\"#Подготовка-прогноза-для-участия-в-соревновании\" data-toc-modified-id=\"Подготовка-прогноза-для-участия-в-соревновании-4\"><span class=\"toc-item-num\">4&nbsp;&nbsp;</span>Подготовка прогноза для участия в соревновании</a></span></li></ul></div>"
   ]
  },
  {
   "cell_type": "markdown",
   "id": "0f19e804",
   "metadata": {},
   "source": [
    "# [Kaggle — Titanic - Machine Learning from Disaster](https://www.kaggle.com/competitions/titanic/overview/evaluation)\n",
    "\n",
    "**Входные данные:**  \n",
    "\n",
    "\n",
    "**Цель проекта:**\n",
    "\n",
    "\n",
    "**Задачи проекта:**"
   ]
  },
  {
   "cell_type": "markdown",
   "id": "c776e062-dd2f-4742-b0b3-350fff61fa32",
   "metadata": {
    "tags": []
   },
   "source": [
    "## Начальная подготовка"
   ]
  },
  {
   "cell_type": "markdown",
   "id": "a6dea4cb-8fe1-4691-88af-0385a44a1442",
   "metadata": {},
   "source": [
    "### Импорты"
   ]
  },
  {
   "cell_type": "code",
   "execution_count": null,
   "id": "c6cf7e9a-b2eb-41f3-b3ff-e1853871bb75",
   "metadata": {},
   "outputs": [],
   "source": [
    "import pandas as pd\n",
    "import numpy as np\n",
    "\n",
    "import os\n",
    "import json\n",
    "import warnings\n",
    "from datetime import date, time, datetime\n",
    "\n",
    "import matplotlib.pyplot as plt\n",
    "import seaborn as sns\n",
    "import plotly.graph_objects as go\n",
    "import plotly.io as pio\n",
    "\n",
    "from sklearn.model_selection import train_test_split, cross_val_score, StratifiedKFold, RepeatedStratifiedKFold, LeaveOneOut\n",
    "from imblearn.pipeline import Pipeline, make_pipeline\n",
    "from sklearn import set_config\n",
    "\n",
    "from feature_engine.creation import MathFeatures\n",
    "from feature_engine.selection import DropFeatures\n",
    "from feature_engine.encoding import MeanEncoder, DecisionTreeEncoder\n",
    "from sklearn.compose import ColumnTransformer, make_column_selector\n",
    "from sklearn.preprocessing import StandardScaler, OneHotEncoder\n",
    "from imblearn.over_sampling import SVMSMOTE\n",
    "\n",
    "from sklearn.ensemble import RandomForestClassifier, AdaBoostClassifier\n",
    "from sklearn.ensemble import HistGradientBoostingClassifier\n",
    "from sklearn.neighbors import KNeighborsClassifier, RadiusNeighborsClassifier\n",
    "from xgboost import XGBClassifier\n",
    "# from lightgbm import LGBMClassifier\n",
    "\n",
    "from sklearn.metrics import roc_auc_score, matthews_corrcoef, cohen_kappa_score, accuracy_score\n",
    "from sklearn.inspection import permutation_importance\n",
    "\n",
    "import optuna\n",
    "from optuna.integration import OptunaSearchCV\n",
    "from optuna.distributions import FloatDistribution, IntDistribution, CategoricalDistribution"
   ]
  },
  {
   "cell_type": "markdown",
   "id": "5630fba8-205b-4687-911e-952f83e6d0fe",
   "metadata": {},
   "source": [
    "### Константы"
   ]
  },
  {
   "cell_type": "code",
   "execution_count": null,
   "id": "2315cf52-77df-44c4-b3a4-189fb9340455",
   "metadata": {},
   "outputs": [],
   "source": [
    "RANDOM_STATE = RS = 66    # константа для параметра random_state\n",
    "CR = '\\n'                 # новая строка\n",
    "N_TRIALS = 1000           # количество попыток для OptunaSearchCV()\n",
    "TIMEOUT = 300             # максимальный порог времени для OptunaSearchCV()\n",
    "SCORING = 'accuracy'      # основная метрика"
   ]
  },
  {
   "cell_type": "markdown",
   "id": "8f604c27-7ed0-4d57-b384-5ee31a89df87",
   "metadata": {},
   "source": [
    "### Вспомогательные функции "
   ]
  },
  {
   "cell_type": "code",
   "execution_count": null,
   "id": "838029c7",
   "metadata": {},
   "outputs": [],
   "source": [
    "def custom_read_csv(path_local, separator=','):\n",
    "    \"\"\"\n",
    "    чтение датасета:\n",
    "      сначала из локального хранилища;\n",
    "      при неудаче — из удаленного хранилища (добавление слеша – особенности синтаксиса линукса или как там его)\n",
    "    \"\"\"\n",
    "\n",
    "    path_remote = '/' + path_local\n",
    "\n",
    "    if os.path.exists(path_local):\n",
    "        return pd.read_csv(path_local, sep=separator)\n",
    "\n",
    "    elif os.path.exists(path_remote):\n",
    "        return pd.read_csv(path_remote, sep=separator)\n",
    "\n",
    "    else:\n",
    "        print('Ошибка')"
   ]
  },
  {
   "cell_type": "code",
   "execution_count": null,
   "id": "b57e52a2",
   "metadata": {},
   "outputs": [],
   "source": [
    "def df_name(df):\n",
    "    \"\"\"\n",
    "    определение имени таблицы\n",
    "    \"\"\"\n",
    "    return [name for name in globals() if globals()[name] is df][0]"
   ]
  },
  {
   "cell_type": "code",
   "execution_count": null,
   "id": "7fc0c1c4",
   "metadata": {},
   "outputs": [],
   "source": [
    "def basic_info(df: pd.DataFrame, sample_type='sample', qnty=5):\n",
    "    \"\"\"\n",
    "    первичная информация о таблице: info(), sample()/head()/tail(), describe()\n",
    "    \"\"\"\n",
    "    \n",
    "    # заголовок (имя исследуемого датафрейма)\n",
    "    \n",
    "    print(f'\\n\\nдатафрейм {f.BOLD}{df_name(df)}{f.END}', '≋'*30)\n",
    "\n",
    "\n",
    "    # метод info()\n",
    "    \n",
    "    print('\\n\\n--- метод info() ---\\n')\n",
    "    print(df.info())\n",
    "\n",
    "    \n",
    "    # несколько случайных записей\n",
    "    \n",
    "    print(f'\\n\\n--- метод {sample_type}({qnty}) ---' + '\\n')\n",
    "    \n",
    "    if sample_type == 'sample':\n",
    "        display(df.sample(qnty))\n",
    "    elif sample_type == 'head':\n",
    "        display(df.head(qnty))\n",
    "    elif sample_type == 'tail':\n",
    "        display(df.tail(qnty))\n",
    "    else:\n",
    "        print(f'{sample_type} – недопустимое значение параметра \"sample_type\" ')\n",
    "    \n",
    "    \n",
    "    # метод describe()\n",
    "    \n",
    "    print('\\n\\n--- метод describe() ---\\n')\n",
    "    \n",
    "    try:\n",
    "        display(df.describe(include=np.number))\n",
    "    except ValueError:\n",
    "        pass\n",
    "\n",
    "    try:\n",
    "        display(df.describe(exclude=np.number))\n",
    "    except ValueError:\n",
    "        pass"
   ]
  },
  {
   "cell_type": "code",
   "execution_count": null,
   "id": "586eaf2c",
   "metadata": {},
   "outputs": [],
   "source": [
    "def plot_Optuna(study, plot_kind='plot_slice', model_name=''):\n",
    "    '''\n",
    "    Дополнительная настройка оригинальных графиков Optuna.\n",
    "    Например, на графике `plot_slice` изначально цвет точек зависел от номера итерации.\n",
    "    Теперь они все одинакового цвета и полупрозрачные, лучше видны скопления точек.\n",
    "    \n",
    "    :study: обученный объект класса OptunaSearchCV\n",
    "    :plot_kind: тип графика Optuna\n",
    "    :model_name: название модели\n",
    "    '''\n",
    "    \n",
    "    if plot_kind == 'plot_slice':\n",
    "        fig = optuna.visualization.plot_slice(study)\n",
    "        fig.update_traces(\n",
    "                          marker_color='Darkgrey',\n",
    "                          marker_size=3,\n",
    "                          marker_opacity=0.2,\n",
    "                          marker_line_width=1,\n",
    "                          marker_line_color='Black',\n",
    "                         )\n",
    "    \n",
    "    elif plot_kind == 'plot_param_importances':\n",
    "        fig = optuna.visualization.plot_param_importances(study)\n",
    "        \n",
    "    elif plot_kind == 'plot_optimization_history':\n",
    "        fig = optuna.visualization.plot_optimization_history(study)\n",
    "        fig.update_traces(\n",
    "                          marker_size=5,\n",
    "                          marker_opacity=0.3,\n",
    "                          marker_line_width=1,\n",
    "                          marker_line_color='Black',\n",
    "                         )\n",
    "\n",
    "    fig.update_layout(\n",
    "                      title_text=model_name,\n",
    "                      title_x=0,\n",
    "                      font_size=10,\n",
    "                     )    \n",
    "    fig.show()"
   ]
  },
  {
   "cell_type": "code",
   "execution_count": null,
   "id": "15f323ed-e005-4cc1-b98d-2c909907b85e",
   "metadata": {},
   "outputs": [],
   "source": [
    "def add_model_metrics(models, X_train, Y_train, X_test, Y_test, scoring='accuracy', loocv=False):\n",
    "    '''\n",
    "    Принимает датафрейм со списком моделей и их характеристиками.\n",
    "    Добавляет в принятый датафрейм несколько метрик\n",
    "    \n",
    "    :models: датафрейм с информацией об обученных моделях\n",
    "    :X_train: обучающая выборка (признаки)\n",
    "    :Y_train: обучающая выборка (целевая переменная)\n",
    "    :X_test: тестовая выборка (признаки)\n",
    "    :Y_test: тестовая выборка (целевая переменная)\n",
    "    :scoring: основная метрика\n",
    "    '''\n",
    "   \n",
    "    def cv_score(model, X, Y, scoring, cv):  # надо подумать, нужно ли это\n",
    "        ''' задача функции удалить возможные NaN '''\n",
    "        x = cross_val_score(model, X, Y, scoring=scoring, cv=cv, n_jobs=-1)  # массив метрик в результате кроссвалидации\n",
    "        return x[~np.isnan(x)].mean()                                        # удаление NaN (если есть) и усреднение\n",
    "\n",
    "    # результаты моделей на обучающей выборке (усреднение на кроссвалидации)\n",
    "    models[scoring + '_valid'] = models['model'].apply(lambda model: cv_score(model, X_train, Y_train, scoring, cv=10))\n",
    "\n",
    "    # результаты моделей на обучающей выборке на LeaveOneOut-кроссвалидации\n",
    "    if loocv:\n",
    "        models['LOOCV_scores'] = models['model'].apply(lambda model: cross_val_score(model, X_train, Y_train, scoring=scoring, cv=LeaveOneOut(), n_jobs=-1))\n",
    "        models[scoring + '_LOOCV_mean_valid'] = models['LOOCV_scores'].apply(lambda x: x.mean())\n",
    "        models[scoring + '_LOOCV_std_valid'] = models['LOOCV_scores'].apply(lambda x: x.std())\n",
    "        models = models.drop('LOOCV_scores', axis=1)\n",
    "\n",
    "    # результаты моделей на тестовой выборке (усреднение на кроссвалидации)\n",
    "        models[scoring + '_test'] = models['model'].apply(lambda model: cv_score(model, X_test, Y_test, scoring, cv=10))\n",
    "#       models['score_test'] = models['model'].apply(lambda model: model.score(X_test, Y_test))\n",
    "    \n",
    "    # результаты моделей на тестовой выборке на LeaveOneOut-кроссвалидации\n",
    "    if loocv:\n",
    "        models['LOOCV_scores'] = models['model'].apply(lambda model: cross_val_score(model, X_test, Y_test, scoring=scoring, cv=LeaveOneOut(), n_jobs=-1))\n",
    "        models[scoring + '_LOOCV_mean_test'] = models['LOOCV_scores'].apply(lambda x: x.mean())\n",
    "        models[scoring + '_LOOCV_std_test'] = models['LOOCV_scores'].apply(lambda x: x.std())\n",
    "        models = models.drop('LOOCV_scores', axis=1)\n",
    "\n",
    "    # ROC_AUC, коэффициент корреляции Мэтьюса, коэффициент каппа Коэна\n",
    "    models['ROC_AUC'] = models['model'].apply(lambda model: roc_auc_score(Y_test, model.predict(X_test)))\n",
    "    models['matthews_coeff'] = models['model'].apply(lambda model: matthews_corrcoef(Y_test, model.predict(X_test)))\n",
    "    models['cohen_kappa'] = models['model'].apply(lambda model: cohen_kappa_score(Y_test, model.predict(X_test)))\n",
    "    \n",
    "    return models"
   ]
  },
  {
   "cell_type": "code",
   "execution_count": null,
   "id": "e6dd87d8",
   "metadata": {},
   "outputs": [],
   "source": [
    "def plot_feature_importances(model_name, feature_names, feature_importances):\n",
    "    \"\"\"\n",
    "    Выводит график важности признаков, использованных моделью при обучении.\n",
    "    \n",
    "    :model_name: название модели\n",
    "    :feature_names: названия признаков\n",
    "    :feature_importances: важность признаков\n",
    "    \"\"\"\n",
    "    \n",
    "    fig, ax = plt.subplots(figsize=(15,5), dpi=plot_dpi)\n",
    "\n",
    "    df = pd.DataFrame({'features': feature_names,\n",
    "                       'importances': feature_importances.importances_mean,\n",
    "                       'std_err': feature_importances.importances_std,\n",
    "                      }).sort_values('importances', ascending=False)\n",
    "    \n",
    "    sns.barplot(\n",
    "                x=df.importances,\n",
    "                y=df.features,\n",
    "                xerr=df.std_err,\n",
    "                color=colors_1[1],\n",
    "               )\n",
    "    \n",
    "    ax.set_title(f'{model_name}: permutation importance', fontsize=18, pad=20)"
   ]
  },
  {
   "cell_type": "markdown",
   "id": "5c3a9ff4-71f9-4b6b-a138-deca9d6a8949",
   "metadata": {},
   "source": [
    "### Оформление"
   ]
  },
  {
   "cell_type": "code",
   "execution_count": null,
   "id": "638b82e7-b556-46d7-948f-bb0b79a62f85",
   "metadata": {},
   "outputs": [],
   "source": [
    "# выделение в тексте\n",
    "class f:\n",
    "    BOLD = \"\\033[1m\"\n",
    "    ITALIC = \"\\033[3m\"\n",
    "    END = \"\\033[0m\""
   ]
  },
  {
   "cell_type": "code",
   "execution_count": null,
   "id": "769ab24b",
   "metadata": {},
   "outputs": [],
   "source": [
    "# оформление графиков по-умолчанию\n",
    "\n",
    "# Matplotlib, Seaborn\n",
    "sns.set_style('whitegrid', {'axes.facecolor': '0.98', 'grid.color': '0.9', 'axes.edgecolor': '1.0'})\n",
    "plot_dpi = 150                                        # dpi для рендеринга графиков\n",
    "\n",
    "# Plotly Graph_Objects\n",
    "pio.templates['my_theme'] = go.layout.Template(\n",
    "                                               layout_autosize=True,\n",
    "                                               # width=900,\n",
    "                                               layout_height=150,\n",
    "                                               layout_legend_orientation=\"h\",\n",
    "                                               layout_margin=dict(t=40, b=40),         # (l=0, r=0, b=0, t=0, pad=0)\n",
    "                                               layout_template='seaborn',\n",
    "                                              )\n",
    "pio.templates.default = 'my_theme'\n",
    "\n",
    "# цвета, цветовые схемы\n",
    "colors_1 = ['darkcyan', 'skyblue', 'gray', 'orange', 'tomato']\n",
    "colors_2 = ['darkcyan', 'orange', 'tomato']\n",
    "colors_3 = ['#789395', '#94B49F', '#B4CFB0', '#E5E3C9']\n",
    "colors_4 = 'crest_r'"
   ]
  },
  {
   "cell_type": "code",
   "execution_count": null,
   "id": "95be01d9-d78c-43ae-85e8-59e7a00ba932",
   "metadata": {},
   "outputs": [],
   "source": [
    "# оформление Pandas\n",
    "pd.options.display.max_colwidth = 100\n",
    "pd.options.display.max_rows = 500\n",
    "pd.options.display.max_columns = 100\n",
    "pd.options.display.float_format = '{:.3f}'.format\n",
    "pd.options.display.colheader_justify = 'left'\n",
    "# pd.options.display.precision = 7\n",
    "# pandas.options.mode.use_inf_as_na = True"
   ]
  },
  {
   "cell_type": "code",
   "execution_count": null,
   "id": "9240aca3-0bab-415e-951b-464223c5c1a2",
   "metadata": {},
   "outputs": [],
   "source": [
    "# оформление Optuna\n",
    "optuna.logging.set_verbosity(optuna.logging.WARNING)  # отключение вывода логов при работе optuna"
   ]
  },
  {
   "cell_type": "code",
   "execution_count": null,
   "id": "d69045c8",
   "metadata": {},
   "outputs": [],
   "source": [
    "# визуализация пайпланов\n",
    "set_config(display=\"diagram\")"
   ]
  },
  {
   "cell_type": "code",
   "execution_count": null,
   "id": "411a2afa-bac5-4aea-a287-4df5e34e6a26",
   "metadata": {},
   "outputs": [],
   "source": [
    "# оформление — прочее\n",
    "warnings.filterwarnings('ignore')"
   ]
  },
  {
   "cell_type": "markdown",
   "id": "30757a9f",
   "metadata": {},
   "source": [
    "## Входные данные"
   ]
  },
  {
   "cell_type": "markdown",
   "id": "52961e98",
   "metadata": {},
   "source": [
    "### Чтение данных"
   ]
  },
  {
   "cell_type": "code",
   "execution_count": null,
   "id": "2ab72067",
   "metadata": {},
   "outputs": [],
   "source": [
    "data_train = custom_read_csv('datasets/data_train.csv')  # пасссажиры, для которых известно значение Transported\n",
    "data_test = custom_read_csv('datasets/data_test.csv')    # пасссажиры, для которых НЕизвестно значение Transported"
   ]
  },
  {
   "cell_type": "markdown",
   "id": "7f1e528e-e522-46b7-8b14-7ae5e8436b11",
   "metadata": {},
   "source": [
    "### Первичная информация о данных"
   ]
  },
  {
   "cell_type": "code",
   "execution_count": null,
   "id": "c862603e",
   "metadata": {},
   "outputs": [],
   "source": [
    "# basic_info(data_train)\n",
    "# basic_info(data_test)"
   ]
  },
  {
   "cell_type": "markdown",
   "id": "4c9f2023",
   "metadata": {},
   "source": [
    "## Данные для моделей"
   ]
  },
  {
   "cell_type": "markdown",
   "id": "9b117c0f-78a0-4410-b5b6-d84e14e3af83",
   "metadata": {
    "tags": []
   },
   "source": [
    "### Feature Engineering\n",
    "\n",
    "Продолжение. Первая часть выполнена в EDA."
   ]
  },
  {
   "cell_type": "markdown",
   "id": "d61fd28b",
   "metadata": {},
   "source": [
    "#### Drop Features — удаление ненужных полей\n",
    "\n",
    "Можно добавить в паплайн, но там больше косяков. Например, удаленные поля все равно выводятся в графике Feature_Importance."
   ]
  },
  {
   "cell_type": "code",
   "execution_count": null,
   "id": "7e1b03ac",
   "metadata": {},
   "outputs": [],
   "source": [
    "features_drop = [\n",
    "                 # исходные признаки\n",
    "                 'PassengerId',\n",
    "                 'Cabin',\n",
    "                 'Name',\n",
    "                 'RoomService',\n",
    "                 'FoodCourt',\n",
    "                 'ShoppingMall',\n",
    "                 'Spa',\n",
    "                 'VRDeck',\n",
    "                 'Age',\n",
    "                 # сгенерированные на этапе EDA\n",
    "                 'Group',\n",
    "                 'Cabin_num',\n",
    "                 'Surname',\n",
    "                ]"
   ]
  },
  {
   "cell_type": "code",
   "execution_count": null,
   "id": "f9e0fa42",
   "metadata": {},
   "outputs": [],
   "source": [
    "data_train = data_train.drop(features_drop, axis=1)\n",
    "data_test = data_test.drop(features_drop, axis=1)"
   ]
  },
  {
   "cell_type": "markdown",
   "id": "c56a434d",
   "metadata": {
    "tags": []
   },
   "source": [
    "### Выделение признаков и целевой переменной"
   ]
  },
  {
   "cell_type": "code",
   "execution_count": 1,
   "id": "2cfc12b0",
   "metadata": {},
   "outputs": [
    {
     "ename": "NameError",
     "evalue": "name 'data_train' is not defined",
     "output_type": "error",
     "traceback": [
      "\u001b[1;31m---------------------------------------------------------------------------\u001b[0m",
      "\u001b[1;31mNameError\u001b[0m                                 Traceback (most recent call last)",
      "Input \u001b[1;32mIn [1]\u001b[0m, in \u001b[0;36m<cell line: 1>\u001b[1;34m()\u001b[0m\n\u001b[1;32m----> 1\u001b[0m X \u001b[38;5;241m=\u001b[39m \u001b[43mdata_train\u001b[49m\u001b[38;5;241m.\u001b[39mdrop(\u001b[38;5;124m'\u001b[39m\u001b[38;5;124mTransported\u001b[39m\u001b[38;5;124m'\u001b[39m, axis\u001b[38;5;241m=\u001b[39m\u001b[38;5;241m1\u001b[39m)\n\u001b[0;32m      2\u001b[0m Y \u001b[38;5;241m=\u001b[39m data_train\u001b[38;5;241m.\u001b[39mTransported\n\u001b[0;32m      4\u001b[0m data_test \u001b[38;5;241m=\u001b[39m data_test\u001b[38;5;241m.\u001b[39mdrop(\u001b[38;5;124m'\u001b[39m\u001b[38;5;124mTransported\u001b[39m\u001b[38;5;124m'\u001b[39m, axis\u001b[38;5;241m=\u001b[39m\u001b[38;5;241m1\u001b[39m)\n",
      "\u001b[1;31mNameError\u001b[0m: name 'data_train' is not defined"
     ]
    }
   ],
   "source": [
    "X = data_train.drop('Transported', axis=1)\n",
    "Y = data_train.Transported\n",
    "\n",
    "data_test = data_test.drop('Transported', axis=1)"
   ]
  },
  {
   "cell_type": "code",
   "execution_count": null,
   "id": "551faab3",
   "metadata": {},
   "outputs": [],
   "source": [
    "X.shape, Y.shape, data_test.shape"
   ]
  },
  {
   "cell_type": "markdown",
   "id": "56162361",
   "metadata": {},
   "source": [
    "### Разделение на обучающую и тестовую выборки\n",
    "\n",
    "Этот test – это часть, отрезанная от train. Нужен для локальной проверки модели."
   ]
  },
  {
   "cell_type": "code",
   "execution_count": null,
   "id": "b3fdb85c",
   "metadata": {},
   "outputs": [],
   "source": [
    "# разделение на обучающую и тестовую выборки\n",
    "X_train, X_test, Y_train, Y_test = train_test_split(X, Y, test_size=0.2, stratify=Y, random_state=RS)\n",
    "\n",
    "# проверка размеров выборок\n",
    "X_train.shape, Y_train.shape, X_test.shape, Y_test.shape"
   ]
  },
  {
   "cell_type": "markdown",
   "id": "e7351110",
   "metadata": {},
   "source": [
    "## Модель: Optuna Original Single\n",
    "\n",
    "Вариант подбора гиперпараметров для одиночной модели с помощью оригинального интерфейса Optuna."
   ]
  },
  {
   "cell_type": "markdown",
   "id": "5e43f3ca",
   "metadata": {},
   "source": [
    "### Feature Engineering"
   ]
  },
  {
   "cell_type": "code",
   "execution_count": null,
   "id": "973877f6",
   "metadata": {},
   "outputs": [],
   "source": [
    "# FE - feature engineering\n",
    "\n",
    "# step_FE1 = ('MeanCategory', MeanEncoder())\n",
    "# step_FE2 = ('MeanCategory_other', MeanEncoder(variables=['Family','Pclass'], ignore_format=True))"
   ]
  },
  {
   "cell_type": "markdown",
   "id": "3edca49d",
   "metadata": {},
   "source": [
    "### Препроцессинг признаков\n",
    "\n",
    "Числовые – стандартизуем.  \n",
    "Категориальные – кодируем."
   ]
  },
  {
   "cell_type": "code",
   "execution_count": null,
   "id": "7bd6d740",
   "metadata": {},
   "outputs": [],
   "source": [
    "# FPP - features pre-processing\n",
    "\n",
    "step_FPP = ('FPP', ColumnTransformer([\n",
    "                                      # для числовых признаков\n",
    "                                      ('num', make_pipeline(StandardScaler()),\n",
    "                                                            make_column_selector(dtype_include=['number'])\n",
    "                                      ),\n",
    "                                      # для категориальных признаков\n",
    "                                      ('obj', make_pipeline(OneHotEncoder(sparse=False, drop='first', handle_unknown='ignore')),\n",
    "    \n",
    "                                                            make_column_selector(dtype_exclude=['number'])\n",
    "                                      )\n",
    "                                     ])\n",
    "           )"
   ]
  },
  {
   "cell_type": "markdown",
   "id": "cb0bec26",
   "metadata": {},
   "source": [
    "### Препроцессинг целевой переменной\n",
    "\n",
    "Балансировка и т.п."
   ]
  },
  {
   "cell_type": "code",
   "execution_count": null,
   "id": "35023be8",
   "metadata": {},
   "outputs": [],
   "source": [
    "# TPP - target pre-processing\n",
    "\n",
    "# step_TPP = ('IMB', SVMSMOTE(random_state=RS) )"
   ]
  },
  {
   "cell_type": "markdown",
   "id": "64702f53",
   "metadata": {},
   "source": [
    "### Final Estimator\n",
    "\n",
    "Собственно, основной алгоритм модели."
   ]
  },
  {
   "cell_type": "markdown",
   "id": "4fc422be",
   "metadata": {},
   "source": [
    "XGBClassifier"
   ]
  },
  {
   "cell_type": "code",
   "execution_count": null,
   "id": "775929e3",
   "metadata": {},
   "outputs": [],
   "source": [
    "step_estimator = ('XGBC', XGBClassifier(objective='binary:logistic', random_state=RS) )"
   ]
  },
  {
   "cell_type": "markdown",
   "id": "1668698c",
   "metadata": {},
   "source": [
    "LGBMClassifier"
   ]
  },
  {
   "cell_type": "code",
   "execution_count": null,
   "id": "bc1604a6",
   "metadata": {},
   "outputs": [],
   "source": [
    "# step_estimator = ('LGBMC', LGBMClassifier(random_state=RS) )"
   ]
  },
  {
   "cell_type": "markdown",
   "id": "c92b9846",
   "metadata": {},
   "source": [
    "### Сборка пайплайна"
   ]
  },
  {
   "cell_type": "code",
   "execution_count": null,
   "id": "b0f382d5",
   "metadata": {},
   "outputs": [],
   "source": [
    "model = Pipeline([\n",
    "                  step_FPP,       # нормализация числовых и кодировка категориальных признаков\n",
    "#                 step_TPP,       # балансировка\n",
    "                  step_estimator\n",
    "                 ])"
   ]
  },
  {
   "cell_type": "markdown",
   "id": "72e07256",
   "metadata": {},
   "source": [
    "### Objective function для Optuna"
   ]
  },
  {
   "cell_type": "code",
   "execution_count": null,
   "id": "0c88ca75",
   "metadata": {},
   "outputs": [],
   "source": [
    "def objective(trial):\n",
    "\n",
    "    params = {\n",
    "#               'IMB__k_neighbors': trial.suggest_int('IMB__k_neighbors', 1, 13, 2),\n",
    "#               'IMB__m_neighbors': trial.suggest_int('IMB__m_neighbors', 1, 7),\n",
    "#               'IMB__sampling_strategy': trial.suggest_categorical('IMB__sampling_strategy', ['not majority', 'all']),\n",
    "        \n",
    "              'XGBC__max_depth': trial.suggest_int('XGBC__max_depth', 1, 50),\n",
    "              'XGBC__eta': trial.suggest_float('XGBC__eta', 0.0, 1.0),\n",
    "              'XGBC__gamma': trial.suggest_float('XGBC__gamma', 0.01, 100, log=True),\n",
    "              'XGBC__max_bin': trial.suggest_int('XGBC__max_bin', 10, 1000, log=True),\n",
    "              'XGBC__n_estimators': trial.suggest_int('XGBC__n_estimators', 100, 1000, log=True),\n",
    "        \n",
    "#               'LGBMC__boosting_type': trial.suggest_categorical('LGBMC__boosting_type', ['gbdt','dart','goss']),\n",
    "#               'LGBMC__num_leaves': trial.suggest_int('LGBMC__num_leaves', 2, 100),\n",
    "#               'LGBMC__max_depth': trial.suggest_int('LGBMC__max_depth', 1, 100),\n",
    "#               'LGBMC__n_estimators': trial.suggest_int('LGBMC__n_estimators', 10, 10000, log=True),\n",
    "#               'LGBMC__learning_rate': trial.suggest_float('LGBMC__learning_rate', 1e-5, 1, log=True),\n",
    "#               'LGBMC__class_weight': trial.suggest_categorical('LGBMC__class_weight', ['balanced', None]),\n",
    "        \n",
    "             }\n",
    "\n",
    "    model.set_params(**params)\n",
    "    \n",
    "    # сохранить модель с текущими гиперпараметрами в атрибутах данного trial\n",
    "#     trial.set_user_attr(key=\"model\", value=model)\n",
    "    \n",
    "    cv_RSKF = StratifiedKFold(n_splits=10)\n",
    "#     cv_RSKF = RepeatedStratifiedKFold(n_splits=10, n_repeats=3, random_state=RS)\n",
    "    \n",
    "    return cross_val_score(model, X_train, Y_train, scoring=SCORING, cv=cv_RSKF, n_jobs=-1).mean()"
   ]
  },
  {
   "cell_type": "markdown",
   "id": "66d3c51f",
   "metadata": {},
   "source": [
    "### Подбор гиперпараметров"
   ]
  },
  {
   "cell_type": "code",
   "execution_count": null,
   "id": "52e01fea",
   "metadata": {},
   "outputs": [],
   "source": [
    "# создание объекта Optuna study\n",
    "study = optuna.create_study(\n",
    "                            study_name=\"XGBClassifier\",\n",
    "                            direction=\"maximize\",\n",
    "                            sampler=optuna.samplers.TPESampler(seed=RS)  # параметр seed – аналог random_state\n",
    "                           )"
   ]
  },
  {
   "cell_type": "code",
   "execution_count": null,
   "id": "4207b4c6",
   "metadata": {
    "scrolled": true
   },
   "outputs": [],
   "source": [
    "%%time\n",
    "\n",
    "# оптимизация (подбор гиперпараметров)\n",
    "study.optimize(objective, n_trials=N_TRIALS, timeout=TIMEOUT, show_progress_bar=True, n_jobs=-1)\n",
    "\n",
    "# извлечение и обучение лучшей модели\n",
    "# model = study.trials[study.best_trial.number].user_attrs['model'].fit(X_train, Y_train)\n",
    "model.set_params(**study.best_params).fit(X_train, Y_train)\n",
    "\n",
    "print(f'{CR}{f.BOLD}{study.study_name}{f.END}{CR}')\n",
    "print(f'Количество попыток: {len(study.trials)}')\n",
    "print(f'Лучший результат: {f.BOLD}{study.best_value:0.4f}{f.END}{CR}')\n",
    "print('Комбинация гиперпараметров:')\n",
    "print(json.dumps(study.best_params, indent=1, sort_keys=True), f'{CR}')"
   ]
  },
  {
   "cell_type": "markdown",
   "id": "a97cc192",
   "metadata": {},
   "source": [
    "### Сводная таблица по моделям\n",
    "\n",
    "Изначально задумана таблица, в которой содержится инфо о нескольких моделях.  \n",
    "Сейчас мы работаем только с одной моделью (соответственно, одна строка в таблице)."
   ]
  },
  {
   "cell_type": "code",
   "execution_count": null,
   "id": "611564ac",
   "metadata": {},
   "outputs": [],
   "source": [
    "models = pd.DataFrame(\n",
    "                      data={'name': ['XGBClassifier'],\n",
    "                            'short_name': ['XGBC'],\n",
    "                            'model': [model],\n",
    "                            'best_params': [study.best_params],\n",
    "                           },\n",
    "                     )\n",
    "# models"
   ]
  },
  {
   "cell_type": "markdown",
   "id": "40a9956e",
   "metadata": {},
   "source": [
    "### Характеристики модели"
   ]
  },
  {
   "cell_type": "code",
   "execution_count": null,
   "id": "6d404acd",
   "metadata": {},
   "outputs": [],
   "source": [
    "# дополнительные метрики моделей\n",
    "\n",
    "models = add_model_metrics(models, X_train, Y_train, X_test, Y_test, scoring=SCORING, loocv=False)"
   ]
  },
  {
   "cell_type": "code",
   "execution_count": null,
   "id": "d96407b7",
   "metadata": {},
   "outputs": [],
   "source": [
    "# запись в файл\n",
    "\n",
    "models.to_excel(f'results/models {datetime.now().strftime(\"date_%Y-%m-%d time_%H-%M\")} score_{study.best_value:0.4f}.xlsx',\n",
    "                sheet_name='best params', index=False)"
   ]
  },
  {
   "cell_type": "code",
   "execution_count": null,
   "id": "776051aa",
   "metadata": {},
   "outputs": [],
   "source": [
    "models.set_index('name').drop(['model','best_params'], axis=1).T"
   ]
  },
  {
   "cell_type": "markdown",
   "id": "365ca299",
   "metadata": {},
   "source": [
    "### Важность признаков"
   ]
  },
  {
   "cell_type": "code",
   "execution_count": null,
   "id": "a53407f0",
   "metadata": {},
   "outputs": [],
   "source": [
    "plot_feature_importances(\n",
    "                         'XGBClassifier',\n",
    "                         # извлечение списка признаков\n",
    "                         model.feature_names_in_,\n",
    "                         # вычисление важности признаков\n",
    "                         permutation_importance(model,\n",
    "                                                X_train, Y_train,\n",
    "                                                scoring='accuracy', n_repeats=10, n_jobs=-1, random_state=RS)\n",
    "                        )"
   ]
  },
  {
   "cell_type": "markdown",
   "id": "d1aeed15",
   "metadata": {},
   "source": [
    "### Визуализация результатов подбора гиперпараметров"
   ]
  },
  {
   "cell_type": "code",
   "execution_count": null,
   "id": "e3f912f7",
   "metadata": {},
   "outputs": [],
   "source": [
    "plot_Optuna(study, 'plot_slice')\n",
    "# plot_Optuna(study, 'plot_param_importances')     # может работать долго !\n",
    "plot_Optuna(study, 'plot_optimization_history')"
   ]
  },
  {
   "cell_type": "markdown",
   "id": "7be05b9f",
   "metadata": {},
   "source": [
    "## Подготовка прогноза для участия в соревновании"
   ]
  },
  {
   "cell_type": "code",
   "execution_count": null,
   "id": "cbef0784",
   "metadata": {},
   "outputs": [],
   "source": [
    "# чтение из тестовых данных PassengerId (требуется в задании)\n",
    "\n",
    "data_predicted = custom_read_csv('datasets/test.csv')[['PassengerId']]"
   ]
  },
  {
   "cell_type": "code",
   "execution_count": null,
   "id": "8fc827d3",
   "metadata": {},
   "outputs": [],
   "source": [
    "# прогноз модели\n",
    "# data_test создан ранее, содержит предобработку, сделанную вне пайплайна\n",
    "\n",
    "data_predicted['Transported'] = model.fit(X,Y).predict(data_test).astype('bool')"
   ]
  },
  {
   "cell_type": "code",
   "execution_count": null,
   "id": "2f18e175",
   "metadata": {},
   "outputs": [],
   "source": [
    "# запись в файл\n",
    "data_predicted.to_csv(\n",
    "                      f'results/result {datetime.now().strftime(\"date_%Y-%m-%d time_%H-%M\")} {SCORING}_{study.best_value:0.4f}.csv',\n",
    "                      index=False,\n",
    "                     )"
   ]
  }
 ],
 "metadata": {
  "kernelspec": {
   "display_name": "Python 3 (ipykernel)",
   "language": "python",
   "name": "python3"
  },
  "language_info": {
   "codemirror_mode": {
    "name": "ipython",
    "version": 3
   },
   "file_extension": ".py",
   "mimetype": "text/x-python",
   "name": "python",
   "nbconvert_exporter": "python",
   "pygments_lexer": "ipython3",
   "version": "3.8.13"
  },
  "nbTranslate": {
   "displayLangs": [
    "en",
    "ru"
   ],
   "hotkey": "alt-t",
   "langInMainMenu": false,
   "sourceLang": "ru",
   "targetLang": "en",
   "useGoogleTranslate": true
  },
  "toc": {
   "base_numbering": "0",
   "nav_menu": {},
   "number_sections": true,
   "sideBar": true,
   "skip_h1_title": true,
   "title_cell": "Содержание",
   "title_sidebar": "Содержание",
   "toc_cell": true,
   "toc_position": {
    "height": "calc(100% - 180px)",
    "left": "10px",
    "top": "150px",
    "width": "221.367px"
   },
   "toc_section_display": true,
   "toc_window_display": true
  },
  "toc-autonumbering": true,
  "toc-showcode": false,
  "toc-showmarkdowntxt": false,
  "toc-showtags": false
 },
 "nbformat": 4,
 "nbformat_minor": 5
}

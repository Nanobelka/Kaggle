{
 "cells": [
  {
   "cell_type": "markdown",
   "id": "0f19e804",
   "metadata": {},
   "source": [
    "**Выбор алгоритма с помощью LazyPredict**\n",
    "\n",
    "# [Kaggle — Spaceship Titanic](https://www.kaggle.com/competitions/spaceship-titanic/overview)\n",
    "\n",
    "**Входные данные:** частично предобработанные при исследовательском анализе данные.\n",
    "\n",
    "\n",
    "**Цель проекта:** экспресс-тестирование разных алгоритомов.\n",
    "\n",
    "\n",
    "**Задачи проекта:**"
   ]
  },
  {
   "cell_type": "markdown",
   "id": "c776e062-dd2f-4742-b0b3-350fff61fa32",
   "metadata": {
    "tags": []
   },
   "source": [
    "## Начальная подготовка"
   ]
  },
  {
   "cell_type": "markdown",
   "id": "a6dea4cb-8fe1-4691-88af-0385a44a1442",
   "metadata": {},
   "source": [
    "### Импорты"
   ]
  },
  {
   "cell_type": "code",
   "execution_count": 1506,
   "id": "c6cf7e9a-b2eb-41f3-b3ff-e1853871bb75",
   "metadata": {},
   "outputs": [],
   "source": [
    "import pandas as pd\n",
    "import numpy as np\n",
    "\n",
    "import os\n",
    "import json\n",
    "import warnings\n",
    "from datetime import date, time, datetime\n",
    "from tqdm.notebook import tqdm\n",
    "\n",
    "from sklearn.model_selection import train_test_split, StratifiedKFold, RepeatedStratifiedKFold\n",
    "from imblearn.pipeline import Pipeline, make_pipeline\n",
    "\n",
    "from sklearn.experimental import enable_iterative_imputer  # noqa\n",
    "from sklearn.impute import IterativeImputer\n",
    "\n",
    "from feature_engine.selection import DropFeatures\n",
    "from feature_engine.encoding import MeanEncoder, DecisionTreeEncoder\n",
    "from sklearn.compose import ColumnTransformer, make_column_transformer, make_column_selector\n",
    "from sklearn.preprocessing import StandardScaler, OneHotEncoder\n",
    "from imblearn.over_sampling import SVMSMOTE\n",
    "\n",
    "from lazypredict.Supervised import LazyClassifier"
   ]
  },
  {
   "cell_type": "markdown",
   "id": "5630fba8-205b-4687-911e-952f83e6d0fe",
   "metadata": {},
   "source": [
    "### Константы"
   ]
  },
  {
   "cell_type": "code",
   "execution_count": 1507,
   "id": "2315cf52-77df-44c4-b3a4-189fb9340455",
   "metadata": {},
   "outputs": [],
   "source": [
    "RANDOM_STATE = RS = 99    # константа для параметра random_state\n",
    "CR = '\\n'                 # новая строка"
   ]
  },
  {
   "cell_type": "markdown",
   "id": "8f604c27-7ed0-4d57-b384-5ee31a89df87",
   "metadata": {},
   "source": [
    "### Вспомогательные функции "
   ]
  },
  {
   "cell_type": "code",
   "execution_count": 1508,
   "id": "838029c7",
   "metadata": {},
   "outputs": [],
   "source": [
    "def custom_read_csv(path_local, separator=','):\n",
    "    \"\"\"\n",
    "    чтение датасета:\n",
    "      сначала из локального хранилища;\n",
    "      при неудаче — из удаленного хранилища (добавление слеша – особенности синтаксиса линукса или как там его)\n",
    "    \"\"\"\n",
    "\n",
    "    path_remote = '/' + path_local\n",
    "\n",
    "    if os.path.exists(path_local):\n",
    "        return pd.read_csv(path_local, sep=separator)\n",
    "\n",
    "    elif os.path.exists(path_remote):\n",
    "        return pd.read_csv(path_remote, sep=separator)\n",
    "\n",
    "    else:\n",
    "        print('Ошибка')"
   ]
  },
  {
   "cell_type": "markdown",
   "id": "5c3a9ff4-71f9-4b6b-a138-deca9d6a8949",
   "metadata": {},
   "source": [
    "### Оформление"
   ]
  },
  {
   "cell_type": "code",
   "execution_count": 1509,
   "id": "638b82e7-b556-46d7-948f-bb0b79a62f85",
   "metadata": {},
   "outputs": [],
   "source": [
    "# выделение в тексте\n",
    "class f:\n",
    "    BOLD = \"\\033[1m\"\n",
    "    ITALIC = \"\\033[3m\"\n",
    "    END = \"\\033[0m\""
   ]
  },
  {
   "cell_type": "code",
   "execution_count": 1510,
   "id": "95be01d9-d78c-43ae-85e8-59e7a00ba932",
   "metadata": {},
   "outputs": [],
   "source": [
    "# оформление Pandas\n",
    "pd.options.display.max_colwidth = 100\n",
    "pd.options.display.max_rows = 500\n",
    "pd.options.display.max_columns = 100\n",
    "pd.options.display.float_format = '{:.3f}'.format\n",
    "pd.options.display.colheader_justify = 'left'\n",
    "# pd.options.display.precision = 7\n",
    "# pandas.options.mode.use_inf_as_na = True"
   ]
  },
  {
   "cell_type": "code",
   "execution_count": 1511,
   "id": "411a2afa-bac5-4aea-a287-4df5e34e6a26",
   "metadata": {},
   "outputs": [],
   "source": [
    "# оформление — прочее\n",
    "warnings.filterwarnings('ignore')"
   ]
  },
  {
   "cell_type": "markdown",
   "id": "30757a9f",
   "metadata": {},
   "source": [
    "## Входные данные"
   ]
  },
  {
   "cell_type": "markdown",
   "id": "52961e98",
   "metadata": {},
   "source": [
    "### Чтение данных"
   ]
  },
  {
   "cell_type": "code",
   "execution_count": 1512,
   "id": "2ab72067",
   "metadata": {},
   "outputs": [],
   "source": [
    "data_train = custom_read_csv('datasets/data_train.csv')  # пасссажиры, для которых известно значение Survived"
   ]
  },
  {
   "cell_type": "markdown",
   "id": "4c9f2023",
   "metadata": {},
   "source": [
    "## Данные для моделей"
   ]
  },
  {
   "cell_type": "markdown",
   "id": "9b117c0f-78a0-4410-b5b6-d84e14e3af83",
   "metadata": {
    "tags": []
   },
   "source": [
    "### Feature Engineering\n",
    "\n",
    "Продолжение. Первая часть выполнена в EDA."
   ]
  },
  {
   "cell_type": "markdown",
   "id": "d61fd28b",
   "metadata": {},
   "source": [
    "#### Drop Features — удаление ненужных полей\n",
    "\n",
    "Можно добавить в паплайн, но там больше косяков. Например, удаленные поля все равно выводятся в графике Feature_Importance."
   ]
  },
  {
   "cell_type": "code",
   "execution_count": 1513,
   "id": "c2018fed",
   "metadata": {},
   "outputs": [
    {
     "data": {
      "text/html": [
       "<div>\n",
       "<style scoped>\n",
       "    .dataframe tbody tr th:only-of-type {\n",
       "        vertical-align: middle;\n",
       "    }\n",
       "\n",
       "    .dataframe tbody tr th {\n",
       "        vertical-align: top;\n",
       "    }\n",
       "\n",
       "    .dataframe thead th {\n",
       "        text-align: right;\n",
       "    }\n",
       "</style>\n",
       "<table border=\"1\" class=\"dataframe\">\n",
       "  <thead>\n",
       "    <tr style=\"text-align: left;\">\n",
       "      <th></th>\n",
       "      <th>PassengerId</th>\n",
       "      <th>HomePlanet</th>\n",
       "      <th>Cabin</th>\n",
       "      <th>Destination</th>\n",
       "      <th>Name</th>\n",
       "      <th>CryoSleep</th>\n",
       "      <th>Age</th>\n",
       "      <th>VIP</th>\n",
       "      <th>RoomService</th>\n",
       "      <th>FoodCourt</th>\n",
       "      <th>ShoppingMall</th>\n",
       "      <th>Spa</th>\n",
       "      <th>VRDeck</th>\n",
       "      <th>Transported</th>\n",
       "      <th>Earth_TRAPPIST</th>\n",
       "      <th>Age_group</th>\n",
       "      <th>Food_Shopping</th>\n",
       "      <th>Room_Spa_Deck</th>\n",
       "      <th>Total_spents</th>\n",
       "      <th>is_Total_spents</th>\n",
       "      <th>Group</th>\n",
       "      <th>is_Alone</th>\n",
       "      <th>Group_Transported</th>\n",
       "      <th>Cab_1</th>\n",
       "      <th>Cab_2</th>\n",
       "      <th>Cab_3</th>\n",
       "      <th>Name_FL</th>\n",
       "      <th>Name_SL</th>\n",
       "    </tr>\n",
       "  </thead>\n",
       "  <tbody>\n",
       "    <tr>\n",
       "      <th>2798</th>\n",
       "      <td>3021_02</td>\n",
       "      <td>Earth</td>\n",
       "      <td>F/574/S</td>\n",
       "      <td>TRAPPIST-1e</td>\n",
       "      <td>Billey Spencervan</td>\n",
       "      <td>0.000</td>\n",
       "      <td>37.000</td>\n",
       "      <td>0.000</td>\n",
       "      <td>6.410</td>\n",
       "      <td>0.000</td>\n",
       "      <td>1.792</td>\n",
       "      <td>0.000</td>\n",
       "      <td>7.401</td>\n",
       "      <td>0.000</td>\n",
       "      <td>1</td>\n",
       "      <td>50</td>\n",
       "      <td>1.792</td>\n",
       "      <td>7.716</td>\n",
       "      <td>7.719</td>\n",
       "      <td>0</td>\n",
       "      <td>3021</td>\n",
       "      <td>0</td>\n",
       "      <td>1</td>\n",
       "      <td>F</td>\n",
       "      <td>574</td>\n",
       "      <td>S</td>\n",
       "      <td>B</td>\n",
       "      <td>S</td>\n",
       "    </tr>\n",
       "  </tbody>\n",
       "</table>\n",
       "</div>"
      ],
      "text/plain": [
       "     PassengerId HomePlanet Cabin    Destination  Name                \\\n",
       "2798  3021_02     Earth      F/574/S  TRAPPIST-1e  Billey Spencervan   \n",
       "\n",
       "      CryoSleep  Age    VIP   RoomService  FoodCourt  ShoppingMall  Spa   \\\n",
       "2798 0.000      37.000 0.000 6.410        0.000      1.792         0.000   \n",
       "\n",
       "      VRDeck  Transported  Earth_TRAPPIST  Age_group  Food_Shopping  \\\n",
       "2798 7.401   0.000         1               50        1.792            \n",
       "\n",
       "      Room_Spa_Deck  Total_spents  is_Total_spents  Group  is_Alone  \\\n",
       "2798 7.716          7.719          0                3021   0          \n",
       "\n",
       "      Group_Transported Cab_1  Cab_2 Cab_3 Name_FL Name_SL  \n",
       "2798  1                  F     574    S     B       S       "
      ]
     },
     "execution_count": 1513,
     "metadata": {},
     "output_type": "execute_result"
    }
   ],
   "source": [
    "data_train.sample()"
   ]
  },
  {
   "cell_type": "code",
   "execution_count": 1514,
   "id": "cac43625",
   "metadata": {},
   "outputs": [],
   "source": [
    "data_train = data_train.drop([\n",
    "                              # исходные признаки\n",
    "                              'PassengerId',\n",
    "                              'Cabin',\n",
    "                              'Name',\n",
    "#                               'Destination',\n",
    "                              'RoomService',\n",
    "                              'FoodCourt',\n",
    "                              'ShoppingMall',\n",
    "                              'Spa',\n",
    "                              'VRDeck',\n",
    "                              'Age',\n",
    "#                               'VIP',\n",
    "                              # сгенерированные на этапе EDA\n",
    "                              'Group',\n",
    "                              'Cabin_num',\n",
    "                              'Surname',\n",
    "#                               'Earth_TRAPPIST',\n",
    "                             ],\n",
    "                             axis=1)"
   ]
  },
  {
   "cell_type": "code",
   "execution_count": 1515,
   "id": "c9d7cc14",
   "metadata": {},
   "outputs": [
    {
     "name": "stdout",
     "output_type": "stream",
     "text": [
      "<class 'pandas.core.frame.DataFrame'>\n",
      "RangeIndex: 8693 entries, 0 to 8692\n",
      "Data columns (total 15 columns):\n",
      " #   Column             Non-Null Count  Dtype  \n",
      "---  ------             --------------  -----  \n",
      " 0   HomePlanet         8693 non-null   object \n",
      " 1   CryoSleep          8693 non-null   float64\n",
      " 2   Transported        8693 non-null   float64\n",
      " 3   Earth_TRAPPIST     8693 non-null   int64  \n",
      " 4   Age_group          8693 non-null   int64  \n",
      " 5   Food_Shopping      8693 non-null   float64\n",
      " 6   Room_Spa_Deck      8693 non-null   float64\n",
      " 7   Total_spents       8693 non-null   float64\n",
      " 8   is_Total_spents    8693 non-null   int64  \n",
      " 9   is_Alone           8693 non-null   int64  \n",
      " 10  Group_Transported  8693 non-null   int64  \n",
      " 11  Cab_1              8693 non-null   object \n",
      " 12  Cab_3              8693 non-null   object \n",
      " 13  Name_FL            8493 non-null   object \n",
      " 14  Name_SL            8493 non-null   object \n",
      "dtypes: float64(5), int64(5), object(5)\n",
      "memory usage: 1018.8+ KB\n"
     ]
    }
   ],
   "source": [
    "data_train.info()"
   ]
  },
  {
   "cell_type": "markdown",
   "id": "c56a434d",
   "metadata": {
    "tags": []
   },
   "source": [
    "### Выделение признаков и целевой переменной"
   ]
  },
  {
   "cell_type": "code",
   "execution_count": 1516,
   "id": "2cfc12b0",
   "metadata": {},
   "outputs": [],
   "source": [
    "X = data_train.drop('Transported', axis=1)\n",
    "Y = data_train.Transported"
   ]
  },
  {
   "cell_type": "code",
   "execution_count": 1517,
   "id": "551faab3",
   "metadata": {},
   "outputs": [
    {
     "data": {
      "text/plain": [
       "((8693, 14), (8693,))"
      ]
     },
     "execution_count": 1517,
     "metadata": {},
     "output_type": "execute_result"
    }
   ],
   "source": [
    "X.shape, Y.shape"
   ]
  },
  {
   "cell_type": "markdown",
   "id": "56162361",
   "metadata": {},
   "source": [
    "### Разделение на обучающую и тестовую выборки\n",
    "\n",
    "Этот test – это часть, отрезанная от train. Нужен для локальной проверки модели."
   ]
  },
  {
   "cell_type": "code",
   "execution_count": 1518,
   "id": "b3fdb85c",
   "metadata": {},
   "outputs": [
    {
     "data": {
      "text/plain": [
       "((6954, 14), (6954,), (1739, 14), (1739,))"
      ]
     },
     "execution_count": 1518,
     "metadata": {},
     "output_type": "execute_result"
    }
   ],
   "source": [
    "# разделение на обучающую и тестовую выборки\n",
    "X_train, X_test, Y_train, Y_test = train_test_split(X, Y, test_size=0.2, stratify=Y, random_state=RS)\n",
    "\n",
    "# проверка размеров выборок\n",
    "X_train.shape, Y_train.shape, X_test.shape, Y_test.shape"
   ]
  },
  {
   "cell_type": "markdown",
   "id": "e7351110",
   "metadata": {},
   "source": [
    "## Модель"
   ]
  },
  {
   "cell_type": "markdown",
   "id": "3e400c35",
   "metadata": {},
   "source": [
    "### Drop Features\n",
    "\n",
    "катастрофически замедляет выполнение"
   ]
  },
  {
   "cell_type": "code",
   "execution_count": 1519,
   "id": "413b2f1a",
   "metadata": {},
   "outputs": [],
   "source": [
    "# drop_features_list = [\n",
    "#                       'PassengerId',\n",
    "#                       'Cabin',\n",
    "#                       'Name',\n",
    "#                       'Destination',\n",
    "#                       'RoomService',\n",
    "#                       'FoodCourt',\n",
    "#                       'ShoppingMall',\n",
    "#                       'Spa',\n",
    "#                       'VRDeck',\n",
    "# #                       'Total_spents',\n",
    "#                       'Age',\n",
    "#                       'VIP',\n",
    "#                       'Group',\n",
    "#                      ]\n",
    "\n",
    "# dropper = make_column_transformer(\n",
    "#                                   ('drop', drop_features_list),\n",
    "#                                    remainder='passthrough'\n",
    "#                                  )"
   ]
  },
  {
   "cell_type": "markdown",
   "id": "e72d0413",
   "metadata": {},
   "source": [
    "### Селекторы числовых и категориальных признаков"
   ]
  },
  {
   "cell_type": "code",
   "execution_count": 1520,
   "id": "762f67b6",
   "metadata": {},
   "outputs": [],
   "source": [
    "selector_num = make_column_selector(dtype_include=np.number)\n",
    "selector_cat = make_column_selector(dtype_exclude=np.number)"
   ]
  },
  {
   "cell_type": "code",
   "execution_count": 1521,
   "id": "02020b65",
   "metadata": {},
   "outputs": [
    {
     "data": {
      "text/plain": [
       "['CryoSleep',\n",
       " 'Earth_TRAPPIST',\n",
       " 'Age_group',\n",
       " 'Food_Shopping',\n",
       " 'Room_Spa_Deck',\n",
       " 'Total_spents',\n",
       " 'is_Total_spents',\n",
       " 'is_Alone',\n",
       " 'Group_Transported']"
      ]
     },
     "execution_count": 1521,
     "metadata": {},
     "output_type": "execute_result"
    }
   ],
   "source": [
    "selector_num(X)"
   ]
  },
  {
   "cell_type": "code",
   "execution_count": 1522,
   "id": "bc044b8f",
   "metadata": {},
   "outputs": [
    {
     "data": {
      "text/plain": [
       "['HomePlanet', 'Cab_1', 'Cab_3', 'Name_FL', 'Name_SL']"
      ]
     },
     "execution_count": 1522,
     "metadata": {},
     "output_type": "execute_result"
    }
   ],
   "source": [
    "selector_cat(X)"
   ]
  },
  {
   "cell_type": "markdown",
   "id": "58ef1d8a",
   "metadata": {},
   "source": [
    "### Предбработка числовых признаков"
   ]
  },
  {
   "cell_type": "code",
   "execution_count": 1523,
   "id": "ede64ffa",
   "metadata": {},
   "outputs": [],
   "source": [
    "num_preprocessor = make_pipeline(\n",
    "                                 StandardScaler(),\n",
    "#                                IterativeImputer(initial_strategy='mean', random_state=RS),  # сделано на этапе EDA\n",
    "                                )"
   ]
  },
  {
   "cell_type": "markdown",
   "id": "43b94f33",
   "metadata": {},
   "source": [
    "### Предбработка категориальных признаков"
   ]
  },
  {
   "cell_type": "code",
   "execution_count": 1524,
   "id": "91efbdb1",
   "metadata": {},
   "outputs": [],
   "source": [
    "cat_preprocessor = OneHotEncoder(sparse=False, drop='first', handle_unknown='ignore')"
   ]
  },
  {
   "cell_type": "markdown",
   "id": "7889f416",
   "metadata": {},
   "source": [
    "### Объединение предобработки"
   ]
  },
  {
   "cell_type": "code",
   "execution_count": 1525,
   "id": "f2074650",
   "metadata": {},
   "outputs": [],
   "source": [
    "preprocessor = make_column_transformer(\n",
    "#                                        ('drop', drop_features_list),\n",
    "                                       (num_preprocessor, selector_num),\n",
    "                                       (cat_preprocessor, selector_cat),\n",
    "                                       remainder=\"passthrough\"           # на будущее (в данном случае необязательно)\n",
    "                                      )"
   ]
  },
  {
   "cell_type": "markdown",
   "id": "8fcf12b6",
   "metadata": {},
   "source": [
    "### Сборка пайплайна"
   ]
  },
  {
   "cell_type": "code",
   "execution_count": 1526,
   "id": "e0133e8f",
   "metadata": {},
   "outputs": [
    {
     "data": {
      "text/html": [
       "<style>#sk-container-id-44 {color: black;background-color: white;}#sk-container-id-44 pre{padding: 0;}#sk-container-id-44 div.sk-toggleable {background-color: white;}#sk-container-id-44 label.sk-toggleable__label {cursor: pointer;display: block;width: 100%;margin-bottom: 0;padding: 0.3em;box-sizing: border-box;text-align: center;}#sk-container-id-44 label.sk-toggleable__label-arrow:before {content: \"▸\";float: left;margin-right: 0.25em;color: #696969;}#sk-container-id-44 label.sk-toggleable__label-arrow:hover:before {color: black;}#sk-container-id-44 div.sk-estimator:hover label.sk-toggleable__label-arrow:before {color: black;}#sk-container-id-44 div.sk-toggleable__content {max-height: 0;max-width: 0;overflow: hidden;text-align: left;background-color: #f0f8ff;}#sk-container-id-44 div.sk-toggleable__content pre {margin: 0.2em;color: black;border-radius: 0.25em;background-color: #f0f8ff;}#sk-container-id-44 input.sk-toggleable__control:checked~div.sk-toggleable__content {max-height: 200px;max-width: 100%;overflow: auto;}#sk-container-id-44 input.sk-toggleable__control:checked~label.sk-toggleable__label-arrow:before {content: \"▾\";}#sk-container-id-44 div.sk-estimator input.sk-toggleable__control:checked~label.sk-toggleable__label {background-color: #d4ebff;}#sk-container-id-44 div.sk-label input.sk-toggleable__control:checked~label.sk-toggleable__label {background-color: #d4ebff;}#sk-container-id-44 input.sk-hidden--visually {border: 0;clip: rect(1px 1px 1px 1px);clip: rect(1px, 1px, 1px, 1px);height: 1px;margin: -1px;overflow: hidden;padding: 0;position: absolute;width: 1px;}#sk-container-id-44 div.sk-estimator {font-family: monospace;background-color: #f0f8ff;border: 1px dotted black;border-radius: 0.25em;box-sizing: border-box;margin-bottom: 0.5em;}#sk-container-id-44 div.sk-estimator:hover {background-color: #d4ebff;}#sk-container-id-44 div.sk-parallel-item::after {content: \"\";width: 100%;border-bottom: 1px solid gray;flex-grow: 1;}#sk-container-id-44 div.sk-label:hover label.sk-toggleable__label {background-color: #d4ebff;}#sk-container-id-44 div.sk-serial::before {content: \"\";position: absolute;border-left: 1px solid gray;box-sizing: border-box;top: 0;bottom: 0;left: 50%;z-index: 0;}#sk-container-id-44 div.sk-serial {display: flex;flex-direction: column;align-items: center;background-color: white;padding-right: 0.2em;padding-left: 0.2em;position: relative;}#sk-container-id-44 div.sk-item {position: relative;z-index: 1;}#sk-container-id-44 div.sk-parallel {display: flex;align-items: stretch;justify-content: center;background-color: white;position: relative;}#sk-container-id-44 div.sk-item::before, #sk-container-id-44 div.sk-parallel-item::before {content: \"\";position: absolute;border-left: 1px solid gray;box-sizing: border-box;top: 0;bottom: 0;left: 50%;z-index: -1;}#sk-container-id-44 div.sk-parallel-item {display: flex;flex-direction: column;z-index: 1;position: relative;background-color: white;}#sk-container-id-44 div.sk-parallel-item:first-child::after {align-self: flex-end;width: 50%;}#sk-container-id-44 div.sk-parallel-item:last-child::after {align-self: flex-start;width: 50%;}#sk-container-id-44 div.sk-parallel-item:only-child::after {width: 0;}#sk-container-id-44 div.sk-dashed-wrapped {border: 1px dashed gray;margin: 0 0.4em 0.5em 0.4em;box-sizing: border-box;padding-bottom: 0.4em;background-color: white;}#sk-container-id-44 div.sk-label label {font-family: monospace;font-weight: bold;display: inline-block;line-height: 1.2em;}#sk-container-id-44 div.sk-label-container {text-align: center;}#sk-container-id-44 div.sk-container {/* jupyter's `normalize.less` sets `[hidden] { display: none; }` but bootstrap.min.css set `[hidden] { display: none !important; }` so we also need the `!important` here to be able to override the default hidden behavior on the sphinx rendered scikit-learn.org. See: https://github.com/scikit-learn/scikit-learn/issues/21755 */display: inline-block !important;position: relative;}#sk-container-id-44 div.sk-text-repr-fallback {display: none;}</style><div id=\"sk-container-id-44\" class=\"sk-top-container\"><div class=\"sk-text-repr-fallback\"><pre>Pipeline(steps=[(&#x27;columntransformer&#x27;,\n",
       "                 ColumnTransformer(remainder=&#x27;passthrough&#x27;,\n",
       "                                   transformers=[(&#x27;pipeline&#x27;,\n",
       "                                                  Pipeline(steps=[(&#x27;standardscaler&#x27;,\n",
       "                                                                   StandardScaler())]),\n",
       "                                                  &lt;sklearn.compose._column_transformer.make_column_selector object at 0x000002638613D370&gt;),\n",
       "                                                 (&#x27;onehotencoder&#x27;,\n",
       "                                                  OneHotEncoder(drop=&#x27;first&#x27;,\n",
       "                                                                handle_unknown=&#x27;ignore&#x27;,\n",
       "                                                                sparse=False),\n",
       "                                                  &lt;sklearn.compose._column_transformer.make_column_selector object at 0x000002638D2392B0&gt;)]))])</pre><b>In a Jupyter environment, please rerun this cell to show the HTML representation or trust the notebook. <br />On GitHub, the HTML representation is unable to render, please try loading this page with nbviewer.org.</b></div><div class=\"sk-container\" hidden><div class=\"sk-item sk-dashed-wrapped\"><div class=\"sk-label-container\"><div class=\"sk-label sk-toggleable\"><input class=\"sk-toggleable__control sk-hidden--visually\" id=\"sk-estimator-id-355\" type=\"checkbox\" ><label for=\"sk-estimator-id-355\" class=\"sk-toggleable__label sk-toggleable__label-arrow\">Pipeline</label><div class=\"sk-toggleable__content\"><pre>Pipeline(steps=[(&#x27;columntransformer&#x27;,\n",
       "                 ColumnTransformer(remainder=&#x27;passthrough&#x27;,\n",
       "                                   transformers=[(&#x27;pipeline&#x27;,\n",
       "                                                  Pipeline(steps=[(&#x27;standardscaler&#x27;,\n",
       "                                                                   StandardScaler())]),\n",
       "                                                  &lt;sklearn.compose._column_transformer.make_column_selector object at 0x000002638613D370&gt;),\n",
       "                                                 (&#x27;onehotencoder&#x27;,\n",
       "                                                  OneHotEncoder(drop=&#x27;first&#x27;,\n",
       "                                                                handle_unknown=&#x27;ignore&#x27;,\n",
       "                                                                sparse=False),\n",
       "                                                  &lt;sklearn.compose._column_transformer.make_column_selector object at 0x000002638D2392B0&gt;)]))])</pre></div></div></div><div class=\"sk-serial\"><div class=\"sk-item sk-dashed-wrapped\"><div class=\"sk-label-container\"><div class=\"sk-label sk-toggleable\"><input class=\"sk-toggleable__control sk-hidden--visually\" id=\"sk-estimator-id-356\" type=\"checkbox\" ><label for=\"sk-estimator-id-356\" class=\"sk-toggleable__label sk-toggleable__label-arrow\">columntransformer: ColumnTransformer</label><div class=\"sk-toggleable__content\"><pre>ColumnTransformer(remainder=&#x27;passthrough&#x27;,\n",
       "                  transformers=[(&#x27;pipeline&#x27;,\n",
       "                                 Pipeline(steps=[(&#x27;standardscaler&#x27;,\n",
       "                                                  StandardScaler())]),\n",
       "                                 &lt;sklearn.compose._column_transformer.make_column_selector object at 0x000002638613D370&gt;),\n",
       "                                (&#x27;onehotencoder&#x27;,\n",
       "                                 OneHotEncoder(drop=&#x27;first&#x27;,\n",
       "                                               handle_unknown=&#x27;ignore&#x27;,\n",
       "                                               sparse=False),\n",
       "                                 &lt;sklearn.compose._column_transformer.make_column_selector object at 0x000002638D2392B0&gt;)])</pre></div></div></div><div class=\"sk-parallel\"><div class=\"sk-parallel-item\"><div class=\"sk-item\"><div class=\"sk-label-container\"><div class=\"sk-label sk-toggleable\"><input class=\"sk-toggleable__control sk-hidden--visually\" id=\"sk-estimator-id-357\" type=\"checkbox\" ><label for=\"sk-estimator-id-357\" class=\"sk-toggleable__label sk-toggleable__label-arrow\">pipeline</label><div class=\"sk-toggleable__content\"><pre>&lt;sklearn.compose._column_transformer.make_column_selector object at 0x000002638613D370&gt;</pre></div></div></div><div class=\"sk-serial\"><div class=\"sk-item\"><div class=\"sk-serial\"><div class=\"sk-item\"><div class=\"sk-estimator sk-toggleable\"><input class=\"sk-toggleable__control sk-hidden--visually\" id=\"sk-estimator-id-358\" type=\"checkbox\" ><label for=\"sk-estimator-id-358\" class=\"sk-toggleable__label sk-toggleable__label-arrow\">StandardScaler</label><div class=\"sk-toggleable__content\"><pre>StandardScaler()</pre></div></div></div></div></div></div></div></div><div class=\"sk-parallel-item\"><div class=\"sk-item\"><div class=\"sk-label-container\"><div class=\"sk-label sk-toggleable\"><input class=\"sk-toggleable__control sk-hidden--visually\" id=\"sk-estimator-id-359\" type=\"checkbox\" ><label for=\"sk-estimator-id-359\" class=\"sk-toggleable__label sk-toggleable__label-arrow\">onehotencoder</label><div class=\"sk-toggleable__content\"><pre>&lt;sklearn.compose._column_transformer.make_column_selector object at 0x000002638D2392B0&gt;</pre></div></div></div><div class=\"sk-serial\"><div class=\"sk-item\"><div class=\"sk-estimator sk-toggleable\"><input class=\"sk-toggleable__control sk-hidden--visually\" id=\"sk-estimator-id-360\" type=\"checkbox\" ><label for=\"sk-estimator-id-360\" class=\"sk-toggleable__label sk-toggleable__label-arrow\">OneHotEncoder</label><div class=\"sk-toggleable__content\"><pre>OneHotEncoder(drop=&#x27;first&#x27;, handle_unknown=&#x27;ignore&#x27;, sparse=False)</pre></div></div></div></div></div></div><div class=\"sk-parallel-item\"><div class=\"sk-item\"><div class=\"sk-label-container\"><div class=\"sk-label sk-toggleable\"><input class=\"sk-toggleable__control sk-hidden--visually\" id=\"sk-estimator-id-361\" type=\"checkbox\" ><label for=\"sk-estimator-id-361\" class=\"sk-toggleable__label sk-toggleable__label-arrow\">remainder</label><div class=\"sk-toggleable__content\"><pre></pre></div></div></div><div class=\"sk-serial\"><div class=\"sk-item\"><div class=\"sk-estimator sk-toggleable\"><input class=\"sk-toggleable__control sk-hidden--visually\" id=\"sk-estimator-id-362\" type=\"checkbox\" ><label for=\"sk-estimator-id-362\" class=\"sk-toggleable__label sk-toggleable__label-arrow\">passthrough</label><div class=\"sk-toggleable__content\"><pre>passthrough</pre></div></div></div></div></div></div></div></div></div></div></div></div>"
      ],
      "text/plain": [
       "Pipeline(steps=[('columntransformer',\n",
       "                 ColumnTransformer(remainder='passthrough',\n",
       "                                   transformers=[('pipeline',\n",
       "                                                  Pipeline(steps=[('standardscaler',\n",
       "                                                                   StandardScaler())]),\n",
       "                                                  <sklearn.compose._column_transformer.make_column_selector object at 0x000002638613D370>),\n",
       "                                                 ('onehotencoder',\n",
       "                                                  OneHotEncoder(drop='first',\n",
       "                                                                handle_unknown='ignore',\n",
       "                                                                sparse=False),\n",
       "                                                  <sklearn.compose._column_transformer.make_column_selector object at 0x000002638D2392B0>)]))])"
      ]
     },
     "execution_count": 1526,
     "metadata": {},
     "output_type": "execute_result"
    }
   ],
   "source": [
    "preprocessing = make_pipeline(\n",
    "#                               dropper,\n",
    "                              preprocessor\n",
    "                             )\n",
    "preprocessing"
   ]
  },
  {
   "cell_type": "markdown",
   "id": "ad435fab",
   "metadata": {},
   "source": [
    "### Остатки — доработать!"
   ]
  },
  {
   "cell_type": "markdown",
   "id": "7b331c94",
   "metadata": {},
   "source": [
    "#### Feature Engineering"
   ]
  },
  {
   "cell_type": "code",
   "execution_count": 1527,
   "id": "973877f6",
   "metadata": {},
   "outputs": [],
   "source": [
    "# MeanEncoder_cat = MeanEncoder()\n",
    "# MeanEncoder_all = MeanEncoder(ignore_format=True)\n",
    "# # MeanEncoder_sel = ('MeanCategory_other', MeanEncoder(variables=[''], ignore_format=True))"
   ]
  },
  {
   "cell_type": "code",
   "execution_count": 1528,
   "id": "60fe849b",
   "metadata": {},
   "outputs": [],
   "source": [
    "MeanEncoder_cat = make_column_transformer(\n",
    "                                          (\n",
    "                                           MeanEncoder(),\n",
    "                                           make_column_selector(dtype_exclude=['number'])\n",
    "                                          ),\n",
    "                                          remainder=\"passthrough\"\n",
    "                                         )"
   ]
  },
  {
   "cell_type": "markdown",
   "id": "cb0bec26",
   "metadata": {},
   "source": [
    "### Препроцессинг целевой переменной\n",
    "\n",
    "Балансировка и т.п."
   ]
  },
  {
   "cell_type": "code",
   "execution_count": 1529,
   "id": "35023be8",
   "metadata": {},
   "outputs": [],
   "source": [
    "balansing = SVMSMOTE(random_state=RS)"
   ]
  },
  {
   "cell_type": "markdown",
   "id": "d28f6407",
   "metadata": {},
   "source": [
    "## Предобработка данных\n",
    "\n",
    "С помощью пайплайна"
   ]
  },
  {
   "cell_type": "code",
   "execution_count": 1530,
   "id": "3e42aead",
   "metadata": {},
   "outputs": [],
   "source": [
    "X_train = preprocessing.fit_transform(X_train, Y_train)\n",
    "X_test = preprocessing.transform(X_test)"
   ]
  },
  {
   "cell_type": "markdown",
   "id": "832f5958",
   "metadata": {},
   "source": [
    "## LazyClassifier\n",
    "\n",
    "Похоже, LazyClassifier на данный момент не поддерживает Pipeline."
   ]
  },
  {
   "cell_type": "code",
   "execution_count": 1531,
   "id": "11f294e8",
   "metadata": {},
   "outputs": [],
   "source": [
    "lazyClf = LazyClassifier(verbose=0, ignore_warnings=True, custom_metric=None, predictions=False)"
   ]
  },
  {
   "cell_type": "code",
   "execution_count": 1532,
   "id": "4ca77416",
   "metadata": {},
   "outputs": [],
   "source": [
    "# model_dictionary = clf.provide_models(X_train, X_test, Y_train, Y_test)\n",
    "# model_dictionary"
   ]
  },
  {
   "cell_type": "markdown",
   "id": "2d2f0481",
   "metadata": {},
   "source": [
    "### StratifiedKFold кросс-валидация"
   ]
  },
  {
   "cell_type": "code",
   "execution_count": 1533,
   "id": "90ada35f",
   "metadata": {},
   "outputs": [],
   "source": [
    "N = 5\n",
    "cv = StratifiedKFold(n_splits=N)"
   ]
  },
  {
   "cell_type": "code",
   "execution_count": 1534,
   "id": "a18bfa28",
   "metadata": {
    "scrolled": false
   },
   "outputs": [
    {
     "name": "stderr",
     "output_type": "stream",
     "text": [
      "100%|██████████| 29/29 [00:16<00:00,  1.75it/s]\n"
     ]
    },
    {
     "name": "stdout",
     "output_type": "stream",
     "text": [
      "'tuple' object has no attribute '__name__'\n",
      "Invalid Classifier(s)\n"
     ]
    },
    {
     "name": "stderr",
     "output_type": "stream",
     "text": [
      "100%|██████████| 29/29 [00:16<00:00,  1.73it/s]\n"
     ]
    },
    {
     "name": "stdout",
     "output_type": "stream",
     "text": [
      "'tuple' object has no attribute '__name__'\n",
      "Invalid Classifier(s)\n"
     ]
    },
    {
     "name": "stderr",
     "output_type": "stream",
     "text": [
      "100%|██████████| 29/29 [00:16<00:00,  1.76it/s]\n"
     ]
    },
    {
     "name": "stdout",
     "output_type": "stream",
     "text": [
      "'tuple' object has no attribute '__name__'\n",
      "Invalid Classifier(s)\n"
     ]
    },
    {
     "name": "stderr",
     "output_type": "stream",
     "text": [
      "100%|██████████| 29/29 [00:16<00:00,  1.75it/s]\n"
     ]
    },
    {
     "name": "stdout",
     "output_type": "stream",
     "text": [
      "'tuple' object has no attribute '__name__'\n",
      "Invalid Classifier(s)\n"
     ]
    },
    {
     "name": "stderr",
     "output_type": "stream",
     "text": [
      "100%|██████████| 29/29 [00:17<00:00,  1.69it/s]\n"
     ]
    }
   ],
   "source": [
    "models_cv = []\n",
    "\n",
    "for index_train, index_valid in cv.split(X_train, Y_train):\n",
    "    \n",
    "    models, predictions = lazyClf.fit(\n",
    "                                      X_train[index_train],\n",
    "                                      X_train[index_valid],\n",
    "                                      Y_train.iloc[index_train],\n",
    "                                      Y_train.iloc[index_valid],\n",
    "                                     )\n",
    "    models_cv.append(models)"
   ]
  },
  {
   "cell_type": "code",
   "execution_count": 1535,
   "id": "f93b6db8",
   "metadata": {
    "scrolled": false
   },
   "outputs": [],
   "source": [
    "# усреднение всех пачек\n",
    "\n",
    "models_cv_mean = models_cv[0]\n",
    "\n",
    "for i in range(1, len(models_cv)):\n",
    "    models_cv_mean +=  models_cv[i]\n",
    "\n",
    "models_cv_mean = models_cv_mean / N"
   ]
  },
  {
   "cell_type": "code",
   "execution_count": 1536,
   "id": "4e892263",
   "metadata": {
    "scrolled": false
   },
   "outputs": [
    {
     "data": {
      "text/html": [
       "<div>\n",
       "<style scoped>\n",
       "    .dataframe tbody tr th:only-of-type {\n",
       "        vertical-align: middle;\n",
       "    }\n",
       "\n",
       "    .dataframe tbody tr th {\n",
       "        vertical-align: top;\n",
       "    }\n",
       "\n",
       "    .dataframe thead th {\n",
       "        text-align: right;\n",
       "    }\n",
       "</style>\n",
       "<table border=\"1\" class=\"dataframe\">\n",
       "  <thead>\n",
       "    <tr style=\"text-align: left;\">\n",
       "      <th></th>\n",
       "      <th>Accuracy</th>\n",
       "      <th>Balanced Accuracy</th>\n",
       "      <th>ROC AUC</th>\n",
       "      <th>F1 Score</th>\n",
       "      <th>Time Taken</th>\n",
       "    </tr>\n",
       "    <tr>\n",
       "      <th>Model</th>\n",
       "      <th></th>\n",
       "      <th></th>\n",
       "      <th></th>\n",
       "      <th></th>\n",
       "      <th></th>\n",
       "    </tr>\n",
       "  </thead>\n",
       "  <tbody>\n",
       "    <tr>\n",
       "      <th>RandomForestClassifier</th>\n",
       "      <td>0.804</td>\n",
       "      <td>0.804</td>\n",
       "      <td>0.804</td>\n",
       "      <td>0.804</td>\n",
       "      <td>0.580</td>\n",
       "    </tr>\n",
       "    <tr>\n",
       "      <th>LGBMClassifier</th>\n",
       "      <td>0.801</td>\n",
       "      <td>0.801</td>\n",
       "      <td>0.801</td>\n",
       "      <td>0.801</td>\n",
       "      <td>0.116</td>\n",
       "    </tr>\n",
       "    <tr>\n",
       "      <th>XGBClassifier</th>\n",
       "      <td>0.800</td>\n",
       "      <td>0.800</td>\n",
       "      <td>0.800</td>\n",
       "      <td>0.800</td>\n",
       "      <td>0.218</td>\n",
       "    </tr>\n",
       "    <tr>\n",
       "      <th>AdaBoostClassifier</th>\n",
       "      <td>0.793</td>\n",
       "      <td>0.792</td>\n",
       "      <td>0.792</td>\n",
       "      <td>0.792</td>\n",
       "      <td>0.383</td>\n",
       "    </tr>\n",
       "    <tr>\n",
       "      <th>LogisticRegression</th>\n",
       "      <td>0.790</td>\n",
       "      <td>0.790</td>\n",
       "      <td>0.790</td>\n",
       "      <td>0.790</td>\n",
       "      <td>0.058</td>\n",
       "    </tr>\n",
       "    <tr>\n",
       "      <th>CalibratedClassifierCV</th>\n",
       "      <td>0.789</td>\n",
       "      <td>0.789</td>\n",
       "      <td>0.789</td>\n",
       "      <td>0.789</td>\n",
       "      <td>4.177</td>\n",
       "    </tr>\n",
       "    <tr>\n",
       "      <th>BaggingClassifier</th>\n",
       "      <td>0.789</td>\n",
       "      <td>0.789</td>\n",
       "      <td>0.789</td>\n",
       "      <td>0.788</td>\n",
       "      <td>0.245</td>\n",
       "    </tr>\n",
       "    <tr>\n",
       "      <th>LinearSVC</th>\n",
       "      <td>0.788</td>\n",
       "      <td>0.788</td>\n",
       "      <td>0.788</td>\n",
       "      <td>0.788</td>\n",
       "      <td>1.200</td>\n",
       "    </tr>\n",
       "    <tr>\n",
       "      <th>ExtraTreesClassifier</th>\n",
       "      <td>0.787</td>\n",
       "      <td>0.787</td>\n",
       "      <td>0.787</td>\n",
       "      <td>0.786</td>\n",
       "      <td>0.628</td>\n",
       "    </tr>\n",
       "    <tr>\n",
       "      <th>LinearDiscriminantAnalysis</th>\n",
       "      <td>0.786</td>\n",
       "      <td>0.786</td>\n",
       "      <td>0.786</td>\n",
       "      <td>0.786</td>\n",
       "      <td>0.063</td>\n",
       "    </tr>\n",
       "    <tr>\n",
       "      <th>RidgeClassifier</th>\n",
       "      <td>0.786</td>\n",
       "      <td>0.786</td>\n",
       "      <td>0.786</td>\n",
       "      <td>0.786</td>\n",
       "      <td>0.035</td>\n",
       "    </tr>\n",
       "    <tr>\n",
       "      <th>RidgeClassifierCV</th>\n",
       "      <td>0.785</td>\n",
       "      <td>0.785</td>\n",
       "      <td>0.785</td>\n",
       "      <td>0.785</td>\n",
       "      <td>0.046</td>\n",
       "    </tr>\n",
       "    <tr>\n",
       "      <th>NuSVC</th>\n",
       "      <td>0.775</td>\n",
       "      <td>0.775</td>\n",
       "      <td>0.775</td>\n",
       "      <td>0.775</td>\n",
       "      <td>2.072</td>\n",
       "    </tr>\n",
       "    <tr>\n",
       "      <th>SVC</th>\n",
       "      <td>0.773</td>\n",
       "      <td>0.774</td>\n",
       "      <td>0.774</td>\n",
       "      <td>0.773</td>\n",
       "      <td>1.711</td>\n",
       "    </tr>\n",
       "    <tr>\n",
       "      <th>SGDClassifier</th>\n",
       "      <td>0.765</td>\n",
       "      <td>0.765</td>\n",
       "      <td>0.765</td>\n",
       "      <td>0.765</td>\n",
       "      <td>0.095</td>\n",
       "    </tr>\n",
       "    <tr>\n",
       "      <th>DecisionTreeClassifier</th>\n",
       "      <td>0.740</td>\n",
       "      <td>0.740</td>\n",
       "      <td>0.740</td>\n",
       "      <td>0.740</td>\n",
       "      <td>0.056</td>\n",
       "    </tr>\n",
       "    <tr>\n",
       "      <th>BernoulliNB</th>\n",
       "      <td>0.737</td>\n",
       "      <td>0.737</td>\n",
       "      <td>0.737</td>\n",
       "      <td>0.735</td>\n",
       "      <td>0.031</td>\n",
       "    </tr>\n",
       "    <tr>\n",
       "      <th>NearestCentroid</th>\n",
       "      <td>0.736</td>\n",
       "      <td>0.737</td>\n",
       "      <td>0.737</td>\n",
       "      <td>0.734</td>\n",
       "      <td>0.024</td>\n",
       "    </tr>\n",
       "    <tr>\n",
       "      <th>ExtraTreeClassifier</th>\n",
       "      <td>0.725</td>\n",
       "      <td>0.726</td>\n",
       "      <td>0.726</td>\n",
       "      <td>0.725</td>\n",
       "      <td>0.032</td>\n",
       "    </tr>\n",
       "    <tr>\n",
       "      <th>Perceptron</th>\n",
       "      <td>0.709</td>\n",
       "      <td>0.709</td>\n",
       "      <td>0.709</td>\n",
       "      <td>0.708</td>\n",
       "      <td>0.029</td>\n",
       "    </tr>\n",
       "    <tr>\n",
       "      <th>PassiveAggressiveClassifier</th>\n",
       "      <td>0.696</td>\n",
       "      <td>0.696</td>\n",
       "      <td>0.696</td>\n",
       "      <td>0.696</td>\n",
       "      <td>0.035</td>\n",
       "    </tr>\n",
       "    <tr>\n",
       "      <th>KNeighborsClassifier</th>\n",
       "      <td>0.685</td>\n",
       "      <td>0.685</td>\n",
       "      <td>0.685</td>\n",
       "      <td>0.685</td>\n",
       "      <td>0.100</td>\n",
       "    </tr>\n",
       "    <tr>\n",
       "      <th>GaussianNB</th>\n",
       "      <td>0.676</td>\n",
       "      <td>0.676</td>\n",
       "      <td>0.676</td>\n",
       "      <td>0.657</td>\n",
       "      <td>0.028</td>\n",
       "    </tr>\n",
       "    <tr>\n",
       "      <th>LabelPropagation</th>\n",
       "      <td>0.653</td>\n",
       "      <td>0.654</td>\n",
       "      <td>0.654</td>\n",
       "      <td>0.653</td>\n",
       "      <td>2.245</td>\n",
       "    </tr>\n",
       "    <tr>\n",
       "      <th>LabelSpreading</th>\n",
       "      <td>0.653</td>\n",
       "      <td>0.654</td>\n",
       "      <td>0.654</td>\n",
       "      <td>0.653</td>\n",
       "      <td>2.412</td>\n",
       "    </tr>\n",
       "    <tr>\n",
       "      <th>QuadraticDiscriminantAnalysis</th>\n",
       "      <td>0.592</td>\n",
       "      <td>0.592</td>\n",
       "      <td>0.592</td>\n",
       "      <td>0.550</td>\n",
       "      <td>0.034</td>\n",
       "    </tr>\n",
       "    <tr>\n",
       "      <th>DummyClassifier</th>\n",
       "      <td>0.504</td>\n",
       "      <td>0.500</td>\n",
       "      <td>0.500</td>\n",
       "      <td>0.337</td>\n",
       "      <td>0.025</td>\n",
       "    </tr>\n",
       "  </tbody>\n",
       "</table>\n",
       "</div>"
      ],
      "text/plain": [
       "                               Accuracy  Balanced Accuracy  ROC AUC  F1 Score  \\\n",
       "Model                                                                           \n",
       "RandomForestClassifier        0.804     0.804              0.804    0.804       \n",
       "LGBMClassifier                0.801     0.801              0.801    0.801       \n",
       "XGBClassifier                 0.800     0.800              0.800    0.800       \n",
       "AdaBoostClassifier            0.793     0.792              0.792    0.792       \n",
       "LogisticRegression            0.790     0.790              0.790    0.790       \n",
       "CalibratedClassifierCV        0.789     0.789              0.789    0.789       \n",
       "BaggingClassifier             0.789     0.789              0.789    0.788       \n",
       "LinearSVC                     0.788     0.788              0.788    0.788       \n",
       "ExtraTreesClassifier          0.787     0.787              0.787    0.786       \n",
       "LinearDiscriminantAnalysis    0.786     0.786              0.786    0.786       \n",
       "RidgeClassifier               0.786     0.786              0.786    0.786       \n",
       "RidgeClassifierCV             0.785     0.785              0.785    0.785       \n",
       "NuSVC                         0.775     0.775              0.775    0.775       \n",
       "SVC                           0.773     0.774              0.774    0.773       \n",
       "SGDClassifier                 0.765     0.765              0.765    0.765       \n",
       "DecisionTreeClassifier        0.740     0.740              0.740    0.740       \n",
       "BernoulliNB                   0.737     0.737              0.737    0.735       \n",
       "NearestCentroid               0.736     0.737              0.737    0.734       \n",
       "ExtraTreeClassifier           0.725     0.726              0.726    0.725       \n",
       "Perceptron                    0.709     0.709              0.709    0.708       \n",
       "PassiveAggressiveClassifier   0.696     0.696              0.696    0.696       \n",
       "KNeighborsClassifier          0.685     0.685              0.685    0.685       \n",
       "GaussianNB                    0.676     0.676              0.676    0.657       \n",
       "LabelPropagation              0.653     0.654              0.654    0.653       \n",
       "LabelSpreading                0.653     0.654              0.654    0.653       \n",
       "QuadraticDiscriminantAnalysis 0.592     0.592              0.592    0.550       \n",
       "DummyClassifier               0.504     0.500              0.500    0.337       \n",
       "\n",
       "                               Time Taken  \n",
       "Model                                      \n",
       "RandomForestClassifier        0.580        \n",
       "LGBMClassifier                0.116        \n",
       "XGBClassifier                 0.218        \n",
       "AdaBoostClassifier            0.383        \n",
       "LogisticRegression            0.058        \n",
       "CalibratedClassifierCV        4.177        \n",
       "BaggingClassifier             0.245        \n",
       "LinearSVC                     1.200        \n",
       "ExtraTreesClassifier          0.628        \n",
       "LinearDiscriminantAnalysis    0.063        \n",
       "RidgeClassifier               0.035        \n",
       "RidgeClassifierCV             0.046        \n",
       "NuSVC                         2.072        \n",
       "SVC                           1.711        \n",
       "SGDClassifier                 0.095        \n",
       "DecisionTreeClassifier        0.056        \n",
       "BernoulliNB                   0.031        \n",
       "NearestCentroid               0.024        \n",
       "ExtraTreeClassifier           0.032        \n",
       "Perceptron                    0.029        \n",
       "PassiveAggressiveClassifier   0.035        \n",
       "KNeighborsClassifier          0.100        \n",
       "GaussianNB                    0.028        \n",
       "LabelPropagation              2.245        \n",
       "LabelSpreading                2.412        \n",
       "QuadraticDiscriminantAnalysis 0.034        \n",
       "DummyClassifier               0.025        "
      ]
     },
     "execution_count": 1536,
     "metadata": {},
     "output_type": "execute_result"
    }
   ],
   "source": [
    "# результат\n",
    "\n",
    "models_cv_mean.sort_values('Accuracy', ascending=False)"
   ]
  },
  {
   "cell_type": "markdown",
   "id": "35c2211f",
   "metadata": {},
   "source": [
    "### RepeatedStratifiedKFold кросс-валидация"
   ]
  },
  {
   "cell_type": "code",
   "execution_count": 1537,
   "id": "0c58a554",
   "metadata": {},
   "outputs": [],
   "source": [
    "# N = 10\n",
    "# R = 3\n",
    "# cv = RepeatedStratifiedKFold(n_splits=N, n_repeats=R)"
   ]
  },
  {
   "cell_type": "code",
   "execution_count": 1538,
   "id": "7588fed0",
   "metadata": {},
   "outputs": [],
   "source": [
    "# models_cv = []\n",
    "\n",
    "# for index_train, index_valid in cv.split(X_train, Y_train):\n",
    "    \n",
    "#     models, predictions = clf.fit(\n",
    "#                                   X_train[index_train],\n",
    "#                                   X_train[index_valid],\n",
    "#                                   Y_train.iloc[index_train],\n",
    "#                                   Y_train.iloc[index_valid]\n",
    "#                                  )\n",
    "#     models_cv.append(models)"
   ]
  },
  {
   "cell_type": "code",
   "execution_count": 1539,
   "id": "64acea78",
   "metadata": {
    "scrolled": false
   },
   "outputs": [],
   "source": [
    "# # усреднение всех пачек\n",
    "\n",
    "# models_cv_mean = models_cv[0]\n",
    "\n",
    "# for i in range(1, len(models_cv)):\n",
    "#     models_cv_mean +=  models_cv[i]\n",
    "\n",
    "# models_cv_mean = models_cv_mean / N / R"
   ]
  },
  {
   "cell_type": "code",
   "execution_count": 1540,
   "id": "910df9ae",
   "metadata": {},
   "outputs": [],
   "source": [
    "# # результат\n",
    "\n",
    "# models_cv_mean.sort_values('Accuracy', ascending=False)"
   ]
  }
 ],
 "metadata": {
  "kernelspec": {
   "display_name": "Python 3 (ipykernel)",
   "language": "python",
   "name": "python3"
  },
  "language_info": {
   "codemirror_mode": {
    "name": "ipython",
    "version": 3
   },
   "file_extension": ".py",
   "mimetype": "text/x-python",
   "name": "python",
   "nbconvert_exporter": "python",
   "pygments_lexer": "ipython3",
   "version": "3.8.13"
  },
  "nbTranslate": {
   "displayLangs": [
    "en",
    "ru"
   ],
   "hotkey": "alt-t",
   "langInMainMenu": false,
   "sourceLang": "ru",
   "targetLang": "en",
   "useGoogleTranslate": true
  },
  "toc": {
   "base_numbering": "0",
   "nav_menu": {},
   "number_sections": true,
   "sideBar": true,
   "skip_h1_title": true,
   "title_cell": "Содержание",
   "title_sidebar": "Содержание",
   "toc_cell": false,
   "toc_position": {
    "height": "calc(100% - 180px)",
    "left": "10px",
    "top": "150px",
    "width": "216.7px"
   },
   "toc_section_display": true,
   "toc_window_display": true
  },
  "toc-autonumbering": true,
  "toc-showcode": false,
  "toc-showmarkdowntxt": false,
  "toc-showtags": false
 },
 "nbformat": 4,
 "nbformat_minor": 5
}
